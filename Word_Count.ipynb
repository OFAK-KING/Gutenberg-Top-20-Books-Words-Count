{
 "cells": [
  {
   "cell_type": "markdown",
   "metadata": {},
   "source": [
    "# [The Gutenberg Book corpus](https://www.kaggle.com/currie32/project-gutenbergs-top-20-books/downloads/project-gutenbergs-top-20-books.zip/1) is a dataset containing natural language text from books. This notebook Writes a program that imports this dataset and creates a list of all unique words and their counts in the files and plots the top 10 of these in the dataset as a bar graph"
   ]
  },
  {
   "cell_type": "markdown",
   "metadata": {},
   "source": [
    "**All our imports** \n"
   ]
  },
  {
   "cell_type": "code",
   "execution_count": 4,
   "metadata": {},
   "outputs": [],
   "source": [
    "import matplotlib.pyplot as plt\n",
    "import numpy as np\n",
    "from nltk.tokenize import word_tokenize \n",
    "import os, glob"
   ]
  },
  {
   "cell_type": "markdown",
   "metadata": {},
   "source": [
    "- **Read in entire gutenberg dataset in *corpus* list**\n",
    "- **Open up the unzipped data folder named** \n",
    "- **Note: you just need to have the .ipynb file if the same folder as the data \"** \n",
    "- **\"project-gutenberg-...\"*, etc. whatever you named the folder.** "
   ]
  },
  {
   "cell_type": "code",
   "execution_count": 5,
   "metadata": {},
   "outputs": [
    {
     "name": "stdout",
     "output_type": "stream",
     "text": [
      "Read 20 books from gutenberg dataset.\n",
      "-------------------------------\n"
     ]
    }
   ],
   "source": [
    "corpus=[]\n",
    "for filename in sorted(glob.glob(os.path.join('*.rtf'))):\n",
    "    file=open(filename,\"r\",encoding=\"utf8\")\n",
    "    text=file.read()\n",
    "    corpus.append(text)\n",
    "    file.close()\n",
    "print(\"Read\", len(corpus), \"books from gutenberg dataset.\\n-------------------------------\")"
   ]
  },
  {
   "cell_type": "markdown",
   "metadata": {},
   "source": [
    "**Install NLTK Toolkit for the Tokenization**"
   ]
  },
  {
   "cell_type": "code",
   "execution_count": 1,
   "metadata": {},
   "outputs": [],
   "source": [
    "import nltk"
   ]
  },
  {
   "cell_type": "code",
   "execution_count": 2,
   "metadata": {},
   "outputs": [
    {
     "name": "stdout",
     "output_type": "stream",
     "text": [
      "showing info https://raw.githubusercontent.com/nltk/nltk_data/gh-pages/index.xml\n"
     ]
    },
    {
     "data": {
      "text/plain": [
       "True"
      ]
     },
     "execution_count": 2,
     "metadata": {},
     "output_type": "execute_result"
    }
   ],
   "source": [
    "nltk.download()"
   ]
  },
  {
   "cell_type": "markdown",
   "metadata": {},
   "source": [
    "**Tokenizing text** "
   ]
  },
  {
   "cell_type": "code",
   "execution_count": 6,
   "metadata": {},
   "outputs": [
    {
     "name": "stdout",
     "output_type": "stream",
     "text": [
      "Number of words in the list:  2912482\n"
     ]
    }
   ],
   "source": [
    "words = []\n",
    "for text in corpus:\n",
    "    for w in word_tokenize(text):\n",
    "        words.append(w)\n",
    "print(\"Number of words in the list: \", len(words))"
   ]
  },
  {
   "cell_type": "markdown",
   "metadata": {},
   "source": [
    "**Counting Words**\n",
    "- A counter is a special kind of \"dictionary\" in python. It's a handy data structure when it comes to keeping track of a value for a unique key. In this case, the count for each unique word.\n",
    "- Elements in a dictionary/Counter are a (key, value) tuple. Keys are unique and represent each word \n",
    "and values represent frequency of each word. \n"
   ]
  },
  {
   "cell_type": "code",
   "execution_count": 7,
   "metadata": {},
   "outputs": [],
   "source": [
    "from collections import Counter\n",
    "counts = Counter(words) # initializing Counter with the words list; it will auto-count frequencies"
   ]
  },
  {
   "cell_type": "markdown",
   "metadata": {},
   "source": [
    "**checking the top 10 words in our case; anyway, can change to any number wants to analyze, by changing the 10 inside counts.most_common(10))**"
   ]
  },
  {
   "cell_type": "code",
   "execution_count": 11,
   "metadata": {},
   "outputs": [
    {
     "name": "stdout",
     "output_type": "stream",
     "text": [
      "Top 10 Frequent words in corpus:\n",
      "------------------------------\n",
      " [(',', 192104), ('the', 104469), ('\\\\', 82077), ('.', 77253), ('and', 71301), ('to', 60785), ('of', 57773), ('a', 43712), ('I', 42412), ('in', 33715)]\n"
     ]
    }
   ],
   "source": [
    "print(\"Top 10 Frequent words in corpus:\\n------------------------------\\n\", counts.most_common(10))"
   ]
  },
  {
   "cell_type": "markdown",
   "metadata": {},
   "source": [
    "**Iterating Counters** \n",
    "- **where \"key\" is the word and \"value\" is the value/frequency for the current word** \n"
   ]
  },
  {
   "cell_type": "code",
   "execution_count": 12,
   "metadata": {},
   "outputs": [
    {
     "name": "stdout",
     "output_type": "stream",
     "text": [
      ", : 192104\n",
      "the : 104469\n",
      "\\ : 82077\n",
      ". : 77253\n",
      "and : 71301\n",
      "to : 60785\n",
      "of : 57773\n",
      "a : 43712\n",
      "I : 42412\n",
      "in : 33715\n"
     ]
    }
   ],
   "source": [
    "top10_words = [] # store the top10 words\n",
    "top10_wordCounts = [] # store the top 10 words' frequencies\n",
    "for key,value in counts.most_common(10):\n",
    "    print(key, \":\", value)\n",
    "    top10_words.append(key)\n",
    "    top10_wordCounts.append(value)"
   ]
  },
  {
   "cell_type": "markdown",
   "metadata": {},
   "source": [
    "**Plotting the top 10 Words** "
   ]
  },
  {
   "cell_type": "code",
   "execution_count": 13,
   "metadata": {},
   "outputs": [
    {
     "data": {
      "image/png": "[encoded data removed]",
      "text/plain": [
       "<Figure size 864x720 with 1 Axes>"
      ]
     },
     "metadata": {
      "needs_background": "light"
     },
     "output_type": "display_data"
    }
   ],
   "source": [
    "y_pos = np.arange(10)\n",
    "plt.figure(figsize=(12,10))\n",
    "plt.bar(y_pos, top10_wordCounts, align='center', alpha=0.5)\n",
    "plt.xticks(y_pos, top10_words,rotation='vertical')\n",
    "plt.ylabel('Frequency')\n",
    "plt.xlabel('Words')\n",
    "plt.title('10 Most Frequent Gutenberg Words')\n",
    "plt.show()"
   ]
  },
  {
   "cell_type": "code",
   "execution_count": null,
   "metadata": {},
   "outputs": [],
   "source": []
  }
 ],
 "metadata": {
  "celltoolbar": "Raw Cell Format",
  "kernelspec": {
   "display_name": "Python 3",
   "language": "python",
   "name": "python3"
  },
  "language_info": {
   "codemirror_mode": {
    "name": "ipython",
    "version": 3
   },
   "file_extension": ".py",
   "mimetype": "text/x-python",
   "name": "python",
   "nbconvert_exporter": "python",
   "pygments_lexer": "ipython3",
   "version": "3.6.8"
  }
 },
 "nbformat": 4,
 "nbformat_minor": 2
}
